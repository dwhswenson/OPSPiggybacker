{
 "cells": [
  {
   "cell_type": "code",
   "execution_count": 1,
   "metadata": {
    "collapsed": false
   },
   "outputs": [],
   "source": [
    "%matplotlib inline\n",
    "import matplotlib.pyplot as plt\n",
    "import openpathsampling as paths\n",
    "import ops_piggybacker as oink"
   ]
  },
  {
   "cell_type": "markdown",
   "metadata": {},
   "source": [
    "# Using OPSPiggybacker to stub in test data for analysis\n",
    "\n",
    "One of the main uses of OPSPiggybacker is to make data from one source readable for OPS analysis tools. In this example, we'll create some fake data and use it to do OPS analysis."
   ]
  },
  {
   "cell_type": "markdown",
   "metadata": {},
   "source": [
    "## Creating the fake dataset\n",
    "\n",
    "The first stage is, of course, to create our fake data.\n",
    "\n",
    "We're going to create trajectories which correspond to flexible length shooting moves. The approach we're going to take isn't actually to directly build those trajectories. Instead, we'll take an easier to code, but more roundabout path. It looks like this:\n",
    "\n",
    "1. Make a bunch of (full) trajectories that satisfy the ensemble, with different strides (to get different pathlength) and different values (to identify which trajectories they came from)\n",
    "2. Select shooting points. Join two trajectories `prev_traj` and `new_traj` in a way that mimics one-way shooting (details below). The resulting trajectory is the input to the piggybacker."
   ]
  },
  {
   "cell_type": "code",
   "execution_count": 2,
   "metadata": {
    "collapsed": true
   },
   "outputs": [],
   "source": [
    "from openpathsampling.tests.test_helpers import make_1d_traj\n",
    "\n",
    "left_state_edge = 0.0\n",
    "right_state_edge = 10.0"
   ]
  },
  {
   "cell_type": "code",
   "execution_count": 3,
   "metadata": {
    "collapsed": false
   },
   "outputs": [],
   "source": [
    "def make_traj(suffix, stride=1):\n",
    "    frame = left_state_edge -1.0 + suffix\n",
    "    coords = [frame]\n",
    "    while frame < right_state_edge:\n",
    "        frame += 1.0*stride\n",
    "        coords.append(frame)\n",
    "        \n",
    "    return make_1d_traj(coords)"
   ]
  },
  {
   "cell_type": "code",
   "execution_count": 4,
   "metadata": {
    "collapsed": false
   },
   "outputs": [],
   "source": [
    "traj1 = make_traj(suffix=0.1)\n",
    "traj2 = make_traj(suffix=0.2, stride=2)\n",
    "traj3 = make_traj(suffix=0.3, stride=3)\n",
    "traj4 = make_traj(suffix=0.4, stride=2)\n",
    "traj5 = make_traj(suffix=0.5, stride=1)"
   ]
  },
  {
   "cell_type": "code",
   "execution_count": 5,
   "metadata": {
    "collapsed": true
   },
   "outputs": [],
   "source": [
    "mytrajs = [traj1, traj2, traj3, traj4, traj5]"
   ]
  },
  {
   "cell_type": "code",
   "execution_count": 6,
   "metadata": {
    "collapsed": false
   },
   "outputs": [
    {
     "data": {
      "image/png": "[encoded data removed]",
      "text/plain": [
       "<matplotlib.figure.Figure at 0x116fbff50>"
      ]
     },
     "metadata": {},
     "output_type": "display_data"
    }
   ],
   "source": [
    "for traj in mytrajs:\n",
    "    plt.plot([s.xyz[0][0] for s in traj], 'o')\n",
    "    plt.plot([0.0]*13, 'r')\n",
    "    plt.plot([10.0]*13, 'r')"
   ]
  },
  {
   "cell_type": "markdown",
   "metadata": {},
   "source": [
    "Now we join the two trajectories together. The approach we use is a little complicated, but the basic idea is this:\n",
    "\n",
    "1. We give a certain `shooting_point`: this is a frame from `prev_traj`\n",
    "2. The `new_traj` finds the first snapshot for which `snapshot.xyz[0][0]` is on the other side of `shooting_point.xyz[0][0]`, where \"other side\" means \"greater than\" if `direction==1` or \"less than\" if `direction==-1`."
   ]
  },
  {
   "cell_type": "code",
   "execution_count": 7,
   "metadata": {
    "collapsed": true
   },
   "outputs": [],
   "source": [
    "def join_as_shooting(prev_traj, new_traj, shooting_point, direction):\n",
    "    sp_index = prev_traj.index(shooting_point)\n",
    "    if direction == 1:\n",
    "        prev_seg = prev_traj[:sp_index+1]\n",
    "        new_seg = [snap for snap in new_traj if snap.xyz[0][0] > shooting_point.xyz[0][0]]\n",
    "        result = prev_seg + new_seg\n",
    "    elif direction == -1:\n",
    "        prev_seg = prev_traj[sp_index:]\n",
    "        new_seg = [snap for snap in new_traj if snap.xyz[0][0] < shooting_point.xyz[0][0]]\n",
    "        result = new_seg + prev_seg\n",
    "    else:\n",
    "        raise RuntimeError(\"Bad direction\")\n",
    "    return paths.Trajectory(result)"
   ]
  },
  {
   "cell_type": "code",
   "execution_count": 8,
   "metadata": {
    "collapsed": true
   },
   "outputs": [],
   "source": [
    "# simple function to plot the traj and show where the snapshots originated\n",
    "def simple_plot(traj, origin_trajs):\n",
    "    plt.plot([s.xyz[0][0] for s in traj], 'k')\n",
    "    for (otraj, style) in zip(origin_trajs, ['bo', 'go', 'ro', 'co', 'mo']):\n",
    "        in_style = zip(*[(traj.index(s), s.xyz[0][0]) for s in traj if s in otraj])\n",
    "        if len(in_style) == 2:\n",
    "            plt.plot(in_style[0], in_style[1], style)"
   ]
  },
  {
   "cell_type": "markdown",
   "metadata": {},
   "source": [
    "Note, importantly, that the trajectory we'll use as input for the piggybacker is the *whole* trajectory, not just the segment generated by one-way shooting."
   ]
  },
  {
   "cell_type": "code",
   "execution_count": 9,
   "metadata": {
    "collapsed": true
   },
   "outputs": [],
   "source": [
    "# tuples of shooting point (frame number), direction, and acceptance\n",
    "sp_index = [4, 4, 6, 5]\n",
    "directions = [-1, +1, -1, -1]\n",
    "acceptance = [True, True, False, True]\n",
    "long_trials = mytrajs[1:]\n",
    "sp_dir_acc_traj = zip(sp_index, directions, acceptance, long_trials)\n",
    "#sp_dir_acc_traj = [(4, -1, True, traj2), (4, +1, True, traj3), (6, -1, False, traj4), (5, -1, True, traj5)]"
   ]
  },
  {
   "cell_type": "code",
   "execution_count": 10,
   "metadata": {
    "collapsed": false
   },
   "outputs": [],
   "source": [
    "inp_trajs = [traj1]\n",
    "last_accepted = 0\n",
    "for i in range(len(sp_dir_acc_traj)):\n",
    "    move = sp_dir_acc_traj[i]\n",
    "    prev_traj = inp_trajs[last_accepted]\n",
    "    sp = move[0]\n",
    "    direction = move[1]\n",
    "    accept = move[2]\n",
    "    long_trial = move[3]\n",
    "    trial = join_as_shooting(prev_traj, long_trial, prev_traj[sp], direction)\n",
    "    inp_trajs.append(trial)\n",
    "    if accept:\n",
    "        last_accepted = i+1"
   ]
  },
  {
   "cell_type": "code",
   "execution_count": 11,
   "metadata": {
    "collapsed": false
   },
   "outputs": [
    {
     "data": {
      "image/png": "[encoded data removed]",
      "text/plain": [
       "<matplotlib.figure.Figure at 0x117100b10>"
      ]
     },
     "metadata": {},
     "output_type": "display_data"
    }
   ],
   "source": [
    "simple_plot(inp_trajs[0], mytrajs)"
   ]
  },
  {
   "cell_type": "code",
   "execution_count": 12,
   "metadata": {
    "collapsed": false
   },
   "outputs": [
    {
     "data": {
      "image/png": "[encoded data removed]",
      "text/plain": [
       "<matplotlib.figure.Figure at 0x117276210>"
      ]
     },
     "metadata": {},
     "output_type": "display_data"
    }
   ],
   "source": [
    "simple_plot(inp_trajs[1], mytrajs)"
   ]
  },
  {
   "cell_type": "code",
   "execution_count": 13,
   "metadata": {
    "collapsed": false
   },
   "outputs": [
    {
     "data": {
      "image/png": "[encoded data removed]",
      "text/plain": [
       "<matplotlib.figure.Figure at 0x117381490>"
      ]
     },
     "metadata": {},
     "output_type": "display_data"
    }
   ],
   "source": [
    "simple_plot(inp_trajs[2], mytrajs)"
   ]
  },
  {
   "cell_type": "code",
   "execution_count": 14,
   "metadata": {
    "collapsed": false
   },
   "outputs": [
    {
     "data": {
      "image/png": "[encoded data removed]",
      "text/plain": [
       "<matplotlib.figure.Figure at 0x1173aadd0>"
      ]
     },
     "metadata": {},
     "output_type": "display_data"
    }
   ],
   "source": [
    "simple_plot(inp_trajs[3], mytrajs) # REJECTED PATH!"
   ]
  },
  {
   "cell_type": "code",
   "execution_count": 15,
   "metadata": {
    "collapsed": false
   },
   "outputs": [
    {
     "data": {
      "image/png": "[encoded data removed]",
      "text/plain": [
       "<matplotlib.figure.Figure at 0x117500990>"
      ]
     },
     "metadata": {},
     "output_type": "display_data"
    }
   ],
   "source": [
    "simple_plot(inp_trajs[4], mytrajs)"
   ]
  },
  {
   "cell_type": "markdown",
   "metadata": {},
   "source": [
    "## OPS objects that must be created\n",
    "\n",
    "This approach isn't quite as simple as a straightforward file converter, because you still need to create a few OPS objects (`Volume`s, `Ensemble`s, etc.) -- although you could, in principle, create other converters to automatically generate those.\n",
    "\n",
    "Now we're going to create those objects."
   ]
  },
  {
   "cell_type": "code",
   "execution_count": 16,
   "metadata": {
    "collapsed": false
   },
   "outputs": [],
   "source": [
    "# volumes\n",
    "cv = paths.CV_Function(\"x\", lambda snap: snap.xyz[0][0])\n",
    "left_state = paths.CVRangeVolume(cv, float(\"-inf\"), 0.0)\n",
    "right_state = paths.CVRangeVolume(cv, 10.0, float(\"inf\"))"
   ]
  },
  {
   "cell_type": "code",
   "execution_count": 17,
   "metadata": {
    "collapsed": true
   },
   "outputs": [],
   "source": [
    "# network\n",
    "network = paths.TPSNetwork(left_state, right_state)\n",
    "ensemble = network.sampling_ensembles[0]  # the only one"
   ]
  },
  {
   "cell_type": "markdown",
   "metadata": {},
   "source": [
    "## Create the MoveStub and PseudoSimulator\n",
    "\n",
    "Next we create the objects from OPSPiggybacker. Essentially, this boils down to creating something that can stub in for a move scheme in OPS, and feed back the results of the simulation."
   ]
  },
  {
   "cell_type": "code",
   "execution_count": 18,
   "metadata": {
    "collapsed": false
   },
   "outputs": [],
   "source": [
    "initial_conditions = paths.SampleSet([\n",
    "        paths.Sample(replica=0,\n",
    "                     trajectory=inp_trajs[0],\n",
    "                     ensemble=ensemble)\n",
    "])\n",
    "template = initial_conditions[0].trajectory[0]"
   ]
  },
  {
   "cell_type": "code",
   "execution_count": 19,
   "metadata": {
    "collapsed": false
   },
   "outputs": [],
   "source": [
    "shoot = oink.ShootingStub(ensemble)"
   ]
  },
  {
   "cell_type": "code",
   "execution_count": 20,
   "metadata": {
    "collapsed": false
   },
   "outputs": [],
   "source": [
    "sim = oink.ShootingPseudoSimulator(storage=paths.Storage('pseudoshoot.nc', 'w', template=template),\n",
    "                                   initial_conditions=initial_conditions,\n",
    "                                   mover=shoot,\n",
    "                                   network=network)"
   ]
  },
  {
   "cell_type": "markdown",
   "metadata": {},
   "source": [
    "## Feed the fake data to the PseudoSimulator\n",
    "\n",
    "Now we actually run this to create our desired `.nc` file, which should be largely indistinguishable from one created by OPS! This is the primary \"production\" step of the process."
   ]
  },
  {
   "cell_type": "code",
   "execution_count": 21,
   "metadata": {
    "collapsed": true
   },
   "outputs": [],
   "source": [
    "trial_trajectories = inp_trajs[1:]\n",
    "replicas = [0]*len(sp_index)\n",
    "move_inputs = zip(replicas, trial_trajectories, sp_index, acceptance)"
   ]
  },
  {
   "cell_type": "code",
   "execution_count": 22,
   "metadata": {
    "collapsed": false
   },
   "outputs": [
    {
     "name": "stdout",
     "output_type": "stream",
     "text": [
      "(0, Trajectory[10], 4, True)\n",
      "(0, Trajectory[8], 4, True)\n",
      "(0, Trajectory[7], 6, False)\n",
      "(0, Trajectory[9], 5, True)\n"
     ]
    }
   ],
   "source": [
    "for move in move_inputs:\n",
    "    print move"
   ]
  },
  {
   "cell_type": "code",
   "execution_count": 23,
   "metadata": {
    "collapsed": false
   },
   "outputs": [],
   "source": [
    "sim.run(move_inputs)"
   ]
  },
  {
   "cell_type": "code",
   "execution_count": 24,
   "metadata": {
    "collapsed": true
   },
   "outputs": [],
   "source": [
    "#sim.storage.close()"
   ]
  },
  {
   "cell_type": "markdown",
   "metadata": {},
   "source": [
    "## Use OPS analysis tools on the faked data\n",
    "\n",
    "Finally, let's show that it works: we'll load that file and analyze it with the tools we would use for OPS."
   ]
  },
  {
   "cell_type": "code",
   "execution_count": 25,
   "metadata": {
    "collapsed": false
   },
   "outputs": [],
   "source": [
    "#analysis_file = paths.AnalysisStorage(\"pseudoshoot.nc\")\n",
    "analysis_file = sim.storage"
   ]
  },
  {
   "cell_type": "code",
   "execution_count": 26,
   "metadata": {
    "collapsed": false
   },
   "outputs": [],
   "source": [
    "scheme = analysis_file.schemes[0]"
   ]
  },
  {
   "cell_type": "code",
   "execution_count": 27,
   "metadata": {
    "collapsed": false
   },
   "outputs": [],
   "source": [
    "step0 = analysis_file.steps[0]"
   ]
  },
  {
   "cell_type": "code",
   "execution_count": 28,
   "metadata": {
    "collapsed": false,
    "scrolled": true
   },
   "outputs": [
    {
     "name": "stdout",
     "output_type": "stream",
     "text": [
      "shooting ran 100.000% (expected 100.00%) of the cycles with acceptance 3/4 (75.00%)\n"
     ]
    }
   ],
   "source": [
    "scheme.move_summary(analysis_file)"
   ]
  },
  {
   "cell_type": "code",
   "execution_count": 29,
   "metadata": {
    "collapsed": false
   },
   "outputs": [
    {
     "data": {
      "image/svg+xml": [
       "<svg baseProfile=\"full\" height=\"120.0px\" version=\"1.1\" width=\"210.0px\" xmlns=\"http://www.w3.org/2000/svg\" xmlns:ev=\"http://www.w3.org/2001/xml-events\" xmlns:xlink=\"http://www.w3.org/1999/xlink\"><defs/><text alignment-baseline=\"middle\" fill=\"black\" font-family=\"Futura\" font-size=\"8.4\" text-anchor=\"end\" x=\"78.0\" y=\"25.2\">1b</text><rect fill=\"black\" height=\"14.4\" width=\"9.0\" x=\"80.5\" y=\"16.8\"/><circle cx=\"80.0\" cy=\"24.0\" fill=\"black\" r=\"0.5\" stroke=\"black\" stroke-width=\"0\"/><circle cx=\"90.0\" cy=\"24.0\" fill=\"black\" r=\"0.5\" stroke=\"black\" stroke-width=\"0\"/><text alignment-baseline=\"middle\" fill=\"white\" font-family=\"Futura\" font-size=\"8.4\" text-anchor=\"middle\" x=\"85.0\" y=\"25.2\"/><rect fill=\"black\" height=\"14.4\" width=\"9.0\" x=\"90.5\" y=\"16.8\"/><circle cx=\"90.0\" cy=\"24.0\" fill=\"black\" r=\"0.5\" stroke=\"black\" stroke-width=\"0\"/><circle cx=\"100.0\" cy=\"24.0\" fill=\"black\" r=\"0.5\" stroke=\"black\" stroke-width=\"0\"/><text alignment-baseline=\"middle\" fill=\"white\" font-family=\"Futura\" font-size=\"8.4\" text-anchor=\"middle\" x=\"95.0\" y=\"25.2\"/><rect fill=\"black\" height=\"14.4\" width=\"9.0\" x=\"100.5\" y=\"16.8\"/><circle cx=\"100.0\" cy=\"24.0\" fill=\"black\" r=\"0.5\" stroke=\"black\" stroke-width=\"0\"/><circle cx=\"110.0\" cy=\"24.0\" fill=\"black\" r=\"0.5\" stroke=\"black\" stroke-width=\"0\"/><text alignment-baseline=\"middle\" fill=\"white\" font-family=\"Futura\" font-size=\"8.4\" text-anchor=\"middle\" x=\"105.0\" y=\"25.2\"/><rect fill=\"black\" height=\"14.4\" width=\"9.0\" x=\"110.5\" y=\"16.8\"/><circle cx=\"110.0\" cy=\"24.0\" fill=\"black\" r=\"0.5\" stroke=\"black\" stroke-width=\"0\"/><circle cx=\"120.0\" cy=\"24.0\" fill=\"black\" r=\"0.5\" stroke=\"black\" stroke-width=\"0\"/><text alignment-baseline=\"middle\" fill=\"white\" font-family=\"Futura\" font-size=\"8.4\" text-anchor=\"middle\" x=\"115.0\" y=\"25.2\"/><rect fill=\"black\" height=\"14.4\" width=\"9.0\" x=\"120.5\" y=\"16.8\"/><circle cx=\"120.0\" cy=\"24.0\" fill=\"black\" r=\"0.5\" stroke=\"black\" stroke-width=\"0\"/><circle cx=\"130.0\" cy=\"24.0\" fill=\"black\" r=\"0.5\" stroke=\"black\" stroke-width=\"0\"/><text alignment-baseline=\"middle\" fill=\"white\" font-family=\"Futura\" font-size=\"8.4\" text-anchor=\"middle\" x=\"125.0\" y=\"25.2\"/><rect fill=\"black\" height=\"14.4\" width=\"9.0\" x=\"130.5\" y=\"16.8\"/><circle cx=\"130.0\" cy=\"24.0\" fill=\"black\" r=\"0.5\" stroke=\"black\" stroke-width=\"0\"/><circle cx=\"140.0\" cy=\"24.0\" fill=\"black\" r=\"0.5\" stroke=\"black\" stroke-width=\"0\"/><text alignment-baseline=\"middle\" fill=\"white\" font-family=\"Futura\" font-size=\"8.4\" text-anchor=\"middle\" x=\"135.0\" y=\"25.2\"/><rect fill=\"black\" height=\"14.4\" width=\"9.0\" x=\"140.5\" y=\"16.8\"/><circle cx=\"140.0\" cy=\"24.0\" fill=\"black\" r=\"0.5\" stroke=\"black\" stroke-width=\"0\"/><circle cx=\"150.0\" cy=\"24.0\" fill=\"black\" r=\"0.5\" stroke=\"black\" stroke-width=\"0\"/><text alignment-baseline=\"middle\" fill=\"white\" font-family=\"Futura\" font-size=\"8.4\" text-anchor=\"middle\" x=\"145.0\" y=\"25.2\"/><rect fill=\"black\" height=\"14.4\" width=\"9.0\" x=\"150.5\" y=\"16.8\"/><circle cx=\"150.0\" cy=\"24.0\" fill=\"black\" r=\"0.5\" stroke=\"black\" stroke-width=\"0\"/><circle cx=\"160.0\" cy=\"24.0\" fill=\"black\" r=\"0.5\" stroke=\"black\" stroke-width=\"0\"/><text alignment-baseline=\"middle\" fill=\"white\" font-family=\"Futura\" font-size=\"8.4\" text-anchor=\"middle\" x=\"155.0\" y=\"25.2\"/><rect fill=\"black\" height=\"14.4\" width=\"9.0\" x=\"160.5\" y=\"16.8\"/><circle cx=\"160.0\" cy=\"24.0\" fill=\"black\" r=\"0.5\" stroke=\"black\" stroke-width=\"0\"/><circle cx=\"170.0\" cy=\"24.0\" fill=\"black\" r=\"0.5\" stroke=\"black\" stroke-width=\"0\"/><text alignment-baseline=\"middle\" fill=\"white\" font-family=\"Futura\" font-size=\"8.4\" text-anchor=\"middle\" x=\"165.0\" y=\"25.2\"/><rect fill=\"black\" height=\"14.4\" width=\"9.0\" x=\"170.5\" y=\"16.8\"/><circle cx=\"170.0\" cy=\"24.0\" fill=\"black\" r=\"0.5\" stroke=\"black\" stroke-width=\"0\"/><circle cx=\"180.0\" cy=\"24.0\" fill=\"black\" r=\"0.5\" stroke=\"black\" stroke-width=\"0\"/><text alignment-baseline=\"middle\" fill=\"white\" font-family=\"Futura\" font-size=\"8.4\" text-anchor=\"middle\" x=\"175.0\" y=\"25.2\"/><rect fill=\"black\" height=\"14.4\" width=\"9.0\" x=\"180.5\" y=\"16.8\"/><circle cx=\"180.0\" cy=\"24.0\" fill=\"black\" r=\"0.5\" stroke=\"black\" stroke-width=\"0\"/><circle cx=\"190.0\" cy=\"24.0\" fill=\"black\" r=\"0.5\" stroke=\"black\" stroke-width=\"0\"/><text alignment-baseline=\"middle\" fill=\"white\" font-family=\"Futura\" font-size=\"8.4\" text-anchor=\"middle\" x=\"185.0\" y=\"25.2\"/><rect fill=\"black\" height=\"14.4\" width=\"9.0\" x=\"190.5\" y=\"16.8\"/><circle cx=\"190.0\" cy=\"24.0\" fill=\"black\" r=\"0.5\" stroke=\"black\" stroke-width=\"0\"/><circle cx=\"200.0\" cy=\"24.0\" fill=\"black\" r=\"0.5\" stroke=\"black\" stroke-width=\"0\"/><text alignment-baseline=\"middle\" fill=\"white\" font-family=\"Futura\" font-size=\"8.4\" text-anchor=\"middle\" x=\"195.0\" y=\"25.2\"/><text alignment-baseline=\"middle\" fill=\"black\" font-family=\"Futura\" font-size=\"8.4\" text-anchor=\"end\" x=\"43.0\" y=\"25.2\">1</text><text alignment-baseline=\"middle\" fill=\"black\" font-family=\"Futura\" font-size=\"8.4\" text-anchor=\"end\" x=\"13.0\" y=\"25.2\">---</text><text alignment-baseline=\"middle\" fill=\"black\" font-family=\"Futura\" font-size=\"8.4\" text-anchor=\"end\" x=\"43.0\" y=\"49.2\">0</text><text alignment-baseline=\"middle\" fill=\"black\" font-family=\"Futura\" font-size=\"8.4\" text-anchor=\"end\" x=\"13.0\" y=\"49.2\">1</text><text alignment-baseline=\"middle\" fill=\"black\" font-family=\"Futura\" font-size=\"8.4\" text-anchor=\"end\" x=\"43.0\" y=\"73.2\">2</text><text alignment-baseline=\"middle\" fill=\"black\" font-family=\"Futura\" font-size=\"8.4\" text-anchor=\"end\" x=\"13.0\" y=\"73.2\">2</text><rect fill=\"black\" height=\"67.2\" width=\"1.0\" x=\"55.0\" y=\"14.4\"/><circle cx=\"55.0\" cy=\"14.4\" fill=\"black\" r=\"0.5\" stroke=\"black\" stroke-width=\"0\"/><rect fill=\"black\" height=\"2.4\" width=\"9.0\" x=\"50.5\" y=\"14.4\"/><circle cx=\"55.0\" cy=\"81.6\" fill=\"black\" r=\"0.5\" stroke=\"black\" stroke-width=\"0\"/><rect fill=\"black\" height=\"2.4\" width=\"9.0\" x=\"50.5\" y=\"79.2\"/><text alignment-baseline=\"middle\" fill=\"black\" font-family=\"Futura\" font-size=\"8.4\" text-anchor=\"middle\" x=\"52.0\" y=\"49.2\"/><text alignment-baseline=\"middle\" fill=\"black\" font-family=\"Futura\" font-size=\"8.4\" text-anchor=\"end\" x=\"43.0\" y=\"97.2\">4</text><text alignment-baseline=\"middle\" fill=\"black\" font-family=\"Futura\" font-size=\"8.4\" text-anchor=\"end\" x=\"13.0\" y=\"97.2\">4</text><rect fill=\"black\" height=\"91.2\" width=\"1.0\" x=\"20.0\" y=\"14.4\"/><circle cx=\"20.0\" cy=\"14.4\" fill=\"black\" r=\"0.5\" stroke=\"black\" stroke-width=\"0\"/><rect fill=\"black\" height=\"2.4\" width=\"9.0\" x=\"15.5\" y=\"14.4\"/><circle cx=\"20.0\" cy=\"105.6\" fill=\"black\" r=\"0.5\" stroke=\"black\" stroke-width=\"0\"/><rect fill=\"black\" height=\"2.4\" width=\"9.0\" x=\"15.5\" y=\"103.2\"/><text alignment-baseline=\"middle\" fill=\"black\" font-family=\"Futura\" font-size=\"8.4\" text-anchor=\"middle\" x=\"17.0\" y=\"61.2\"/><rect fill=\"black\" height=\"19.2\" width=\"1.0\" x=\"55.0\" y=\"86.4\"/><circle cx=\"55.0\" cy=\"86.4\" fill=\"black\" r=\"0.5\" stroke=\"black\" stroke-width=\"0\"/><rect fill=\"black\" height=\"2.4\" width=\"9.0\" x=\"50.5\" y=\"86.4\"/><text alignment-baseline=\"middle\" fill=\"black\" font-family=\"Futura\" font-size=\"8.4\" text-anchor=\"middle\" x=\"52.0\" y=\"97.2\"/></svg>"
      ],
      "text/plain": [
       "<IPython.core.display.SVG object>"
      ]
     },
     "execution_count": 29,
     "metadata": {},
     "output_type": "execute_result"
    }
   ],
   "source": [
    "import openpathsampling.visualize as ops_vis\n",
    "from IPython.display import SVG\n",
    "history = ops_vis.ReplicaHistoryTree(\n",
    "    storage=analysis_file,\n",
    "    steps=analysis_file.steps[0:],\n",
    "    replica=0\n",
    ")\n",
    "\n",
    "history.view.zoom = 1.0\n",
    "history.view.scale_y = 24\n",
    "history.view.scale_x = 10\n",
    "history.view.font_size = 0.35\n",
    "history.view.horizontal_gap = 0.05\n",
    "\n",
    "SVG(history.view.to_svg())"
   ]
  },
  {
   "cell_type": "code",
   "execution_count": 30,
   "metadata": {
    "collapsed": false
   },
   "outputs": [
    {
     "data": {
      "image/png": "[encoded data removed]",
      "text/plain": [
       "<matplotlib.figure.Figure at 0x117619610>"
      ]
     },
     "metadata": {},
     "output_type": "display_data"
    }
   ],
   "source": [
    "path_lengths = [len(step.active[0].trajectory) for step in analysis_file.steps]\n",
    "plt.hist(path_lengths, alpha=0.5);"
   ]
  },
  {
   "cell_type": "code",
   "execution_count": 33,
   "metadata": {
    "collapsed": false
   },
   "outputs": [
    {
     "data": {
      "text/plain": [
       "<openpathsampling.pathmover.ForwardShootMover at 0x11771f0d0>"
      ]
     },
     "execution_count": 33,
     "metadata": {},
     "output_type": "execute_result"
    }
   ],
   "source": [
    "shoot.mimic.movers[0]"
   ]
  },
  {
   "cell_type": "code",
   "execution_count": null,
   "metadata": {
    "collapsed": true
   },
   "outputs": [],
   "source": []
  }
 ],
 "metadata": {
  "kernelspec": {
   "display_name": "Python 2",
   "language": "python",
   "name": "python2"
  },
  "language_info": {
   "codemirror_mode": {
    "name": "ipython",
    "version": 2
   },
   "file_extension": ".py",
   "mimetype": "text/x-python",
   "name": "python",
   "nbconvert_exporter": "python",
   "pygments_lexer": "ipython2",
   "version": "2.7.11"
  }
 },
 "nbformat": 4,
 "nbformat_minor": 0
}
