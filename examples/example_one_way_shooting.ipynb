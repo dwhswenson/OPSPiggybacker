{
 "cells": [
  {
   "cell_type": "code",
   "execution_count": 1,
   "metadata": {
    "collapsed": true
   },
   "outputs": [],
   "source": [
    "%matplotlib inline\n",
    "import matplotlib.pyplot as plt\n",
    "import openpathsampling as paths\n",
    "import ops_piggybacker as oink"
   ]
  },
  {
   "cell_type": "markdown",
   "metadata": {},
   "source": [
    "## Create fake trajectories\n",
    "\n",
    "The input trajectories for the one-way shooting version must\n",
    "\n",
    "* not include the shooting point (which is shared between the two trajectories)\n",
    "* be in forward-time order (so reversed paths, which are created as time goes backward, need to be reversed)\n"
   ]
  },
  {
   "cell_type": "code",
   "execution_count": 2,
   "metadata": {
    "collapsed": true
   },
   "outputs": [],
   "source": [
    "from openpathsampling.tests.test_helpers import make_1d_traj\n",
    "\n",
    "traj1 = make_1d_traj([-0.9, 0.1, 1.1, 2.1, 3.1, 4.1, 5.1, 6.1, 7.1, 8.1, 9.1, 10.1])\n",
    "traj2 = make_1d_traj([-0.8, 1.2])\n",
    "traj3 = make_1d_traj([5.3, 8.3, 11.3])\n",
    "traj4 = make_1d_traj([-0.6, 1.4, 3.4, 5.4, 7.4])\n",
    "traj5 = make_1d_traj([-0.5, 0.5, 1.5, 2.5, 3.5, 4.5, 5.5])"
   ]
  },
  {
   "cell_type": "markdown",
   "metadata": {},
   "source": [
    "## Make list of move data\n",
    "\n",
    "The input to the pseudo-simulator is a list of data related to the move. For one-way shooting, you need the following information with each move:\n",
    "\n",
    "* the replica this move applies to (for TPS, just use `0`)\n",
    "* the single-direction trajectory (as described in the previous section)\n",
    "* the index of the shooting point from the previous *full* trajectory\n",
    "* whether the trajectory was accepted\n",
    "* the direction of the one-way shooting move (forward is `+1`, backward is `-1`)\n",
    "\n",
    "The `moves` object below is a list of tuples of that information, in the order listed above. This is what you need to create from your previous simulation."
   ]
  },
  {
   "cell_type": "code",
   "execution_count": 3,
   "metadata": {
    "collapsed": true
   },
   "outputs": [],
   "source": [
    "moves = [\n",
    "    (0, traj2, 3, True, -1),\n",
    "    (0, traj3, 4, True, +1),\n",
    "    (0, traj4, 6, False, -1),\n",
    "    (0, traj5, 6, True, -1)\n",
    "]"
   ]
  },
  {
   "cell_type": "markdown",
   "metadata": {},
   "source": [
    "From here, you've already done everything that needs to be done to reshape your already-run simulation. Now you just need to create the fake OPS simulations."
   ]
  },
  {
   "cell_type": "markdown",
   "metadata": {},
   "source": [
    "## Create OPS objects"
   ]
  },
  {
   "cell_type": "code",
   "execution_count": 4,
   "metadata": {
    "collapsed": true
   },
   "outputs": [],
   "source": [
    "# volumes\n",
    "cv = paths.FunctionCV(\"x\", lambda snap: snap.xyz[0][0])\n",
    "left_state = paths.CVDefinedVolume(cv, float(\"-inf\"), 0.0)\n",
    "right_state = paths.CVDefinedVolume(cv, 10.0, float(\"inf\"))"
   ]
  },
  {
   "cell_type": "code",
   "execution_count": 5,
   "metadata": {
    "collapsed": true
   },
   "outputs": [],
   "source": [
    "# network\n",
    "network = paths.TPSNetwork(left_state, right_state)\n",
    "ensemble = network.sampling_ensembles[0]  # the only one"
   ]
  },
  {
   "cell_type": "markdown",
   "metadata": {},
   "source": [
    "## Create initial conditions"
   ]
  },
  {
   "cell_type": "code",
   "execution_count": 6,
   "metadata": {
    "collapsed": true
   },
   "outputs": [],
   "source": [
    "initial_conditions = paths.SampleSet([\n",
    "        paths.Sample(replica=0,\n",
    "                     trajectory=traj1,\n",
    "                     ensemble=ensemble)\n",
    "])"
   ]
  },
  {
   "cell_type": "markdown",
   "metadata": {},
   "source": [
    "## Create OPSPiggybacker objects\n",
    "\n",
    "Note that the big difference here is that you use `pre_joined=False`. This is essential for the automated one-way shooting treatment."
   ]
  },
  {
   "cell_type": "code",
   "execution_count": 7,
   "metadata": {
    "collapsed": true
   },
   "outputs": [],
   "source": [
    "shoot = oink.ShootingStub(ensemble, pre_joined=False)"
   ]
  },
  {
   "cell_type": "code",
   "execution_count": 8,
   "metadata": {
    "collapsed": true
   },
   "outputs": [],
   "source": [
    "sim = oink.ShootingPseudoSimulator(storage=paths.Storage('one_way.nc', 'w'),\n",
    "                                   initial_conditions=initial_conditions,\n",
    "                                   mover=shoot,\n",
    "                                   network=network)"
   ]
  },
  {
   "cell_type": "markdown",
   "metadata": {},
   "source": [
    "## Run the pseudo-simulator"
   ]
  },
  {
   "cell_type": "code",
   "execution_count": 9,
   "metadata": {
    "collapsed": true
   },
   "outputs": [],
   "source": [
    "sim.run(moves)"
   ]
  },
  {
   "cell_type": "code",
   "execution_count": 10,
   "metadata": {
    "collapsed": true
   },
   "outputs": [],
   "source": [
    "sim.storage.close()"
   ]
  },
  {
   "cell_type": "markdown",
   "metadata": {},
   "source": [
    "## Analyze with OPS"
   ]
  },
  {
   "cell_type": "code",
   "execution_count": 11,
   "metadata": {
    "collapsed": true
   },
   "outputs": [],
   "source": [
    "analysis_file = paths.AnalysisStorage(\"one_way.nc\")"
   ]
  },
  {
   "cell_type": "code",
   "execution_count": 12,
   "metadata": {
    "collapsed": false
   },
   "outputs": [
    {
     "name": "stdout",
     "output_type": "stream",
     "text": [
      "shooting ran 100.000% (expected 100.00%) of the cycles with acceptance 3/4 (75.00%)\n"
     ]
    }
   ],
   "source": [
    "scheme = analysis_file.schemes[0]\n",
    "scheme.move_summary(analysis_file.steps)"
   ]
  },
  {
   "cell_type": "code",
   "execution_count": 13,
   "metadata": {
    "collapsed": false
   },
   "outputs": [
    {
     "data": {
      "image/svg+xml": [
       "<svg baseProfile=\"full\" class=\"opstree\" height=\"100%\" version=\"1.1\" viewBox=\"-80.00 -22.50 209.00 90.00\" width=\"100%\" xmlns=\"http://www.w3.org/2000/svg\" xmlns:ev=\"http://www.w3.org/2001/xml-events\" xmlns:xlink=\"http://www.w3.org/1999/xlink\"><defs><style type=\"text/css\"><![CDATA[\n",
       ".opstree text, .movetree text {\n",
       "    alignment-baseline: central;\n",
       "    font-size: 10px;\n",
       "    text-anchor: middle;\n",
       "    font-family: Futura-CondensedMedium;\n",
       "    font-weight: lighter;\n",
       "    stroke: none !important;\n",
       "}\n",
       ".opstree .block text, .movetree .block text {\n",
       "    alignment-baseline: central;\n",
       "    font-size: 8px;\n",
       "    text-anchor: middle;\n",
       "    font-family: Futura-CondensedMedium;\n",
       "    font-weight: lighter;\n",
       "    stroke: none !important;\n",
       "}\n",
       ".opstree text.shadow {\n",
       "    stroke-width: 3;\n",
       "    stroke: white !important;\n",
       "}\n",
       ".opstree .left.label .shift text {\n",
       "    text-anchor: end;\n",
       "}\n",
       ".opstree .right.label .shift text {\n",
       "    text-anchor: start;\n",
       "}\n",
       ".opstree .block text, .movetree .block text {\n",
       "    fill: white !important;\n",
       "    stroke: none !important;\n",
       "}\n",
       ".opstree .block {\n",
       "    stroke: none !important;\n",
       "}\n",
       ".opstree g.block:hover rect {\n",
       "    opacity: 0.5;\n",
       "}\n",
       ".opstree .repex {\n",
       "    fill: blue;\n",
       "    stroke: blue;\n",
       "}\n",
       ".opstree .extend {\n",
       "    fill: blue;\n",
       "    stroke: blue;\n",
       "}\n",
       ".opstree .truncate {\n",
       "    fill: blue;\n",
       "    stroke: blue;\n",
       "}\n",
       ".opstree .new {\n",
       "    fill: black;\n",
       "    stroke: black;\n",
       "}\n",
       ".opstree .unknown {\n",
       "    fill: gray;\n",
       "    stroke: gray;\n",
       "}\n",
       ".opstree .hop {\n",
       "    fill: blue;\n",
       "    stroke: blue;\n",
       "}\n",
       ".opstree .correlation {\n",
       "    fill: black;\n",
       "    stroke: black;\n",
       "}\n",
       ".opstree .shooting.bw {\n",
       "    fill: green;\n",
       "    stroke: green;\n",
       "}\n",
       ".opstree .shooting.fw {\n",
       "    fill: red;\n",
       "    stroke: red;\n",
       "}\n",
       ".opstree .shooting.overlap {\n",
       "    fill: #666;\n",
       "    stroke: #666;\n",
       "}\n",
       ".opstree .reversal {\n",
       "    fill: gold;\n",
       "    stroke: gold;\n",
       "}\n",
       ".opstree .virtual {\n",
       "    opacity: 0.1;\n",
       "    fill:gray;\n",
       "    stroke: none;\n",
       "}\n",
       ".opstree line {\n",
       "    stroke-width: 2px;\n",
       "}\n",
       ".opstree .label {\n",
       "    fill: black !important;\n",
       "}\n",
       ".opstree .h-connector {\n",
       "    stroke-width: 0.1px;\n",
       "    stroke-dasharray: 3 3;\n",
       "}\n",
       ".opstree .rejected {\n",
       "    opacity: 0.25;\n",
       "}\n",
       ".opstree .level {\n",
       "    opacity: 0.25;\n",
       "}\n",
       ".opstree .orange {\n",
       "    fill: orange;\n",
       "}\n",
       ".tableline {\n",
       "    fill: gray;\n",
       "    opacity: 0.0;\n",
       "}\n",
       ".tableline:hover {\n",
       "    opacity: 0.2;\n",
       "}\n",
       ".opstree .left.label g.shift {\n",
       "    transform: translateX(-6px);\n",
       "}\n",
       ".opstree .right.label g.shift {\n",
       "    transform: translateX(+6px);\n",
       "}\n",
       ".opstree .infobox text {\n",
       "    text-anchor: start;\n",
       "}\n",
       ".opstree .shade {\n",
       "    stroke: none;\n",
       "}\n",
       "\n",
       ".movetree .label .shift {\n",
       "    transform: translateX(-18px);\n",
       "}\n",
       "\n",
       ".movetree .label text {\n",
       "    text-anchor: end;\n",
       "}\n",
       ".movetree .v-connector {\n",
       "    stroke: black;\n",
       "}\n",
       ".movetree .v-hook {\n",
       "    stroke: black;\n",
       "}\n",
       ".movetree .h-connector {\n",
       "    stroke: black;\n",
       "}\n",
       ".movetree .ensembles .head .shift {\n",
       "    transform: translateY(0px) rotate(270deg) ;\n",
       "}\n",
       ".movetree .ensembles .head text {\n",
       "    text-anchor: start;\n",
       "}\n",
       ".movetree .connector.input {\n",
       "    fill: green;\n",
       "}\n",
       ".movetree .connector.output {\n",
       "    fill: red;\n",
       "}\n",
       ".movetree .unknown {\n",
       "    fill: gray;\n",
       "}\n",
       "]]></style></defs><g transform=\"scale(1.0)\"><g class=\"tree\" transform=\"translate(37,15)\"><g><g class=\"unknown left label\" transform=\"translate(0,0)\"><g class=\"shift\"><text x=\"0\" y=\"0\">+</text></g></g><g class=\"shooting left label\" transform=\"translate(5,15)\"><g class=\"shift\"><text x=\"0\" y=\"0\">B</text></g></g><g class=\"shooting right label\" transform=\"translate(40,30)\"><g class=\"shift\"><text x=\"0\" y=\"0\">F</text></g></g><g class=\"shooting left label\" transform=\"translate(0,45)\"><g class=\"shift\"><text x=\"0\" y=\"0\">B</text></g></g></g><g><line class=\"shooting bw connection v-connector\" x1=\"12.5\" x2=\"12.5\" y1=\"0.75\" y2=\"14.25\"/><line class=\"shooting fw connection v-connector\" x1=\"27.5\" x2=\"27.5\" y1=\"0.75\" y2=\"29.25\"/><line class=\"shooting bw connection v-connector\" x1=\"32.5\" x2=\"32.5\" y1=\"30.75\" y2=\"44.25\"/></g><g><g class=\"unknown new block\"><desc>{}</desc><rect height=\"9.0\" width=\"4.5\" x=\"-2.25\" y=\"-4.5\"/><circle cx=\"2.5\" cy=\"0\" r=\"0.25\"/><text x=\"0.0\" y=\"0\"/></g><g class=\"unknown new block\"><desc>{}</desc><rect height=\"9.0\" width=\"4.5\" x=\"2.75\" y=\"-4.5\"/><circle cx=\"2.5\" cy=\"0\" r=\"0.25\"/><circle cx=\"7.5\" cy=\"0\" r=\"0.25\"/><text x=\"5.0\" y=\"0\"/></g><g class=\"unknown new block\"><desc>{}</desc><rect height=\"9.0\" width=\"4.5\" x=\"7.75\" y=\"-4.5\"/><circle cx=\"7.5\" cy=\"0\" r=\"0.25\"/><circle cx=\"12.5\" cy=\"0\" r=\"0.25\"/><text x=\"10.0\" y=\"0\"/></g><g class=\"unknown new block\"><desc>{}</desc><rect height=\"9.0\" width=\"4.5\" x=\"12.75\" y=\"-4.5\"/><circle cx=\"12.5\" cy=\"0\" r=\"0.25\"/><circle cx=\"17.5\" cy=\"0\" r=\"0.25\"/><text x=\"15.0\" y=\"0\"/></g><g class=\"unknown new block\"><desc>{}</desc><rect height=\"9.0\" width=\"4.5\" x=\"17.75\" y=\"-4.5\"/><circle cx=\"17.5\" cy=\"0\" r=\"0.25\"/><circle cx=\"22.5\" cy=\"0\" r=\"0.25\"/><text x=\"20.0\" y=\"0\"/></g><g class=\"unknown new block\"><desc>{}</desc><rect height=\"9.0\" width=\"4.5\" x=\"22.75\" y=\"-4.5\"/><circle cx=\"22.5\" cy=\"0\" r=\"0.25\"/><circle cx=\"27.5\" cy=\"0\" r=\"0.25\"/><text x=\"25.0\" y=\"0\"/></g><g class=\"unknown new block\"><desc>{}</desc><rect height=\"9.0\" width=\"4.5\" x=\"27.75\" y=\"-4.5\"/><circle cx=\"27.5\" cy=\"0\" r=\"0.25\"/><circle cx=\"32.5\" cy=\"0\" r=\"0.25\"/><text x=\"30.0\" y=\"0\"/></g><g class=\"unknown new block\"><desc>{}</desc><rect height=\"9.0\" width=\"4.5\" x=\"32.75\" y=\"-4.5\"/><circle cx=\"32.5\" cy=\"0\" r=\"0.25\"/><circle cx=\"37.5\" cy=\"0\" r=\"0.25\"/><text x=\"35.0\" y=\"0\"/></g><g class=\"unknown new block\"><desc>{}</desc><rect height=\"9.0\" width=\"4.5\" x=\"37.75\" y=\"-4.5\"/><circle cx=\"37.5\" cy=\"0\" r=\"0.25\"/><circle cx=\"42.5\" cy=\"0\" r=\"0.25\"/><text x=\"40.0\" y=\"0\"/></g><g class=\"unknown new block\"><desc>{}</desc><rect height=\"9.0\" width=\"4.5\" x=\"42.75\" y=\"-4.5\"/><circle cx=\"42.5\" cy=\"0\" r=\"0.25\"/><circle cx=\"47.5\" cy=\"0\" r=\"0.25\"/><text x=\"45.0\" y=\"0\"/></g><g class=\"unknown new block\"><desc>{}</desc><rect height=\"9.0\" width=\"4.5\" x=\"47.75\" y=\"-4.5\"/><circle cx=\"47.5\" cy=\"0\" r=\"0.25\"/><circle cx=\"52.5\" cy=\"0\" r=\"0.25\"/><text x=\"50.0\" y=\"0\"/></g><g class=\"unknown new block\"><desc>{}</desc><rect height=\"9.0\" width=\"4.5\" x=\"52.75\" y=\"-4.5\"/><circle cx=\"52.5\" cy=\"0\" r=\"0.25\"/><text x=\"55.0\" y=\"0\"/></g><g class=\"shooting bw block\"><desc>{}</desc><rect height=\"9.0\" width=\"4.5\" x=\"2.75\" y=\"10.5\"/><circle cx=\"7.5\" cy=\"15\" r=\"0.25\"/><text x=\"5.0\" y=\"15\"/></g><g class=\"shooting bw block\"><desc>{}</desc><rect height=\"9.0\" width=\"4.5\" x=\"7.75\" y=\"10.5\"/><circle cx=\"7.5\" cy=\"15\" r=\"0.25\"/><circle cx=\"12.5\" cy=\"15\" r=\"0.25\"/><text x=\"10.0\" y=\"15\"/></g><g class=\"shooting fw block\"><desc>{}</desc><rect height=\"9.0\" width=\"4.5\" x=\"27.75\" y=\"25.5\"/><circle cx=\"27.5\" cy=\"30\" r=\"0.25\"/><circle cx=\"32.5\" cy=\"30\" r=\"0.25\"/><text x=\"30.0\" y=\"30\"/></g><g class=\"shooting fw block\"><desc>{}</desc><rect height=\"9.0\" width=\"4.5\" x=\"32.75\" y=\"25.5\"/><circle cx=\"32.5\" cy=\"30\" r=\"0.25\"/><circle cx=\"37.5\" cy=\"30\" r=\"0.25\"/><text x=\"35.0\" y=\"30\"/></g><g class=\"shooting fw block\"><desc>{}</desc><rect height=\"9.0\" width=\"4.5\" x=\"37.75\" y=\"25.5\"/><circle cx=\"37.5\" cy=\"30\" r=\"0.25\"/><text x=\"40.0\" y=\"30\"/></g><g class=\"shooting bw block\"><desc>{}</desc><rect height=\"9.0\" width=\"4.5\" x=\"-2.25\" y=\"40.5\"/><circle cx=\"2.5\" cy=\"45\" r=\"0.25\"/><text x=\"0.0\" y=\"45\"/></g><g class=\"shooting bw block\"><desc>{}</desc><rect height=\"9.0\" width=\"4.5\" x=\"2.75\" y=\"40.5\"/><circle cx=\"2.5\" cy=\"45\" r=\"0.25\"/><circle cx=\"7.5\" cy=\"45\" r=\"0.25\"/><text x=\"5.0\" y=\"45\"/></g><g class=\"shooting bw block\"><desc>{}</desc><rect height=\"9.0\" width=\"4.5\" x=\"7.75\" y=\"40.5\"/><circle cx=\"7.5\" cy=\"45\" r=\"0.25\"/><circle cx=\"12.5\" cy=\"45\" r=\"0.25\"/><text x=\"10.0\" y=\"45\"/></g><g class=\"shooting bw block\"><desc>{}</desc><rect height=\"9.0\" width=\"4.5\" x=\"12.75\" y=\"40.5\"/><circle cx=\"12.5\" cy=\"45\" r=\"0.25\"/><circle cx=\"17.5\" cy=\"45\" r=\"0.25\"/><text x=\"15.0\" y=\"45\"/></g><g class=\"shooting bw block\"><desc>{}</desc><rect height=\"9.0\" width=\"4.5\" x=\"17.75\" y=\"40.5\"/><circle cx=\"17.5\" cy=\"45\" r=\"0.25\"/><circle cx=\"22.5\" cy=\"45\" r=\"0.25\"/><text x=\"20.0\" y=\"45\"/></g><g class=\"shooting bw block\"><desc>{}</desc><rect height=\"9.0\" width=\"4.5\" x=\"22.75\" y=\"40.5\"/><circle cx=\"22.5\" cy=\"45\" r=\"0.25\"/><circle cx=\"27.5\" cy=\"45\" r=\"0.25\"/><text x=\"25.0\" y=\"45\"/></g><g class=\"shooting bw block\"><desc>{}</desc><rect height=\"9.0\" width=\"4.5\" x=\"27.75\" y=\"40.5\"/><circle cx=\"27.5\" cy=\"45\" r=\"0.25\"/><circle cx=\"32.5\" cy=\"45\" r=\"0.25\"/><text x=\"30.0\" y=\"45\"/></g></g></g><g class=\"legend\"><g class=\"legend\" transform=\"translate(0)\"><g class=\"label\" transform=\"translate(0,0)\"><g class=\"shift\"><text x=\"0\" y=\"0\">cor</text></g></g><g class=\"correlation v-region\"><line x1=\"0\" x2=\"0\" y1=\"7.5\" y2=\"52.5\"/><circle cx=\"0\" cy=\"7.5\" r=\"1.6\"/><line x1=\"-6.4\" x2=\"6.4\" y1=\"7.5\" y2=\"7.5\"/><circle cx=\"0\" cy=\"52.5\" r=\"1.6\"/><line x1=\"-6.4\" x2=\"6.4\" y1=\"52.5\" y2=\"52.5\"/><text x=\"-6.4\" y=\"30.0\"/></g><g class=\"correlation v-region\"><line x1=\"0\" x2=\"0\" y1=\"52.5\" y2=\"67.5\"/><circle cx=\"0\" cy=\"52.5\" r=\"1.6\"/><line x1=\"-6.4\" x2=\"6.4\" y1=\"52.5\" y2=\"52.5\"/><text x=\"-6.4\" y=\"60.0\"/></g></g><g class=\"legend\" transform=\"translate(-32)\"><g class=\"label\" transform=\"translate(0,0)\"><g class=\"shift\"><text x=\"0\" y=\"0\">step</text></g></g><g class=\"label\" transform=\"translate(0,15)\"><g class=\"shift\"><text x=\"0\" y=\"0\">*</text></g></g><g class=\"label\" transform=\"translate(0,30)\"><g class=\"shift\"><text x=\"0\" y=\"0\">1</text></g></g><g class=\"label\" transform=\"translate(0,45)\"><g class=\"shift\"><text x=\"0\" y=\"0\">2</text></g></g><g class=\"label\" transform=\"translate(0,60)\"><g class=\"shift\"><text x=\"0\" y=\"0\">4</text></g></g></g></g><g><rect class=\"tableline\" height=\"13.5\" width=\"209.0\" x=\"-80.0\" y=\"8.25\"/><rect class=\"tableline\" height=\"13.5\" width=\"209.0\" x=\"-80.0\" y=\"23.25\"/><rect class=\"tableline\" height=\"13.5\" width=\"209.0\" x=\"-80.0\" y=\"38.25\"/><rect class=\"tableline\" height=\"13.5\" width=\"209.0\" x=\"-80.0\" y=\"53.25\"/></g></g></svg>"
      ],
      "text/plain": [
       "<IPython.core.display.SVG object>"
      ]
     },
     "execution_count": 13,
     "metadata": {},
     "output_type": "execute_result"
    }
   ],
   "source": [
    "import openpathsampling.visualize as ops_vis\n",
    "from IPython.display import SVG\n",
    "history = ops_vis.PathTree(\n",
    "    analysis_file.steps,\n",
    "    ops_vis.ReplicaEvolution(replica=0)\n",
    ")\n",
    "# switch to the \"boxcar\" look for the trajectories\n",
    "history.options.movers['default']['new'] = 'single'\n",
    "history.options.css['horizontal_gap'] = True\n",
    "SVG(history.svg())"
   ]
  },
  {
   "cell_type": "code",
   "execution_count": 14,
   "metadata": {
    "collapsed": false
   },
   "outputs": [
    {
     "data": {
      "image/png": "[encoded data removed]",
      "text/plain": [
       "<matplotlib.figure.Figure at 0x117368310>"
      ]
     },
     "metadata": {},
     "output_type": "display_data"
    }
   ],
   "source": [
    "path_lengths = [len(step.active[0].trajectory) for step in analysis_file.steps]\n",
    "plt.hist(path_lengths, alpha=0.5);"
   ]
  },
  {
   "cell_type": "code",
   "execution_count": 15,
   "metadata": {
    "collapsed": false
   },
   "outputs": [
    {
     "data": {
      "image/png": "[encoded data removed]",
      "text/plain": [
       "<matplotlib.figure.Figure at 0x117ce2e90>"
      ]
     },
     "metadata": {},
     "output_type": "display_data"
    }
   ],
   "source": [
    "cv_x = analysis_file.cvs['x']\n",
    "# load the active trajectory as storage.steps[step_num].active[replica_id]\n",
    "plt.plot(cv_x(analysis_file.steps[2].active[0]), 'o-');"
   ]
  },
  {
   "cell_type": "code",
   "execution_count": null,
   "metadata": {
    "collapsed": true
   },
   "outputs": [],
   "source": []
  }
 ],
 "metadata": {
  "kernelspec": {
   "display_name": "Python 2",
   "language": "python",
   "name": "python2"
  },
  "language_info": {
   "codemirror_mode": {
    "name": "ipython",
    "version": 2
   },
   "file_extension": ".py",
   "mimetype": "text/x-python",
   "name": "python",
   "nbconvert_exporter": "python",
   "pygments_lexer": "ipython2",
   "version": "2.7.12"
  }
 },
 "nbformat": 4,
 "nbformat_minor": 0
}
